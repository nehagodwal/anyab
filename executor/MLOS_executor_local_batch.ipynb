{
 "cells": [
  {
   "cell_type": "code",
   "execution_count": 1,
   "id": "2c6be127",
   "metadata": {},
   "outputs": [],
   "source": [
    "from storage_client import StorageClient\n",
    "from compute_pool import ComputePool\n",
    "from job import Job"
   ]
  },
  {
   "cell_type": "code",
   "execution_count": 2,
   "id": "6a0e7e00",
   "metadata": {},
   "outputs": [],
   "source": [
    "# Build user task image\n",
    "# uc = user_task('user_task')\n",
    "# uc.build()"
   ]
  },
  {
   "cell_type": "code",
   "execution_count": 3,
   "id": "a1a5a7cc",
   "metadata": {},
   "outputs": [],
   "source": [
    "# Initialize computePool and storageClient\n",
    "cp = ComputePool()\n",
    "sc = StorageClient()"
   ]
  },
  {
   "cell_type": "code",
   "execution_count": 4,
   "id": "b79553b3",
   "metadata": {},
   "outputs": [],
   "source": [
    "# Initialze Job\n",
    "j = Job(sc, cp)"
   ]
  },
  {
   "cell_type": "code",
   "execution_count": 5,
   "id": "7d9233ab",
   "metadata": {},
   "outputs": [],
   "source": [
    "# Start Job\n",
    "j.start_job()"
   ]
  },
  {
   "cell_type": "code",
   "execution_count": 12,
   "id": "01371482",
   "metadata": {},
   "outputs": [
    {
     "name": "stdout",
     "output_type": "stream",
     "text": [
      "b'Benchmark in progress... Sleeping for 5s.\\n'\n",
      "b'Benchmark in progress... Sleeping for 5s.\\n'\n",
      "b'Benchmark in progress... Sleeping for 5s.\\n'\n",
      "b'Benchmark in progress... Sleeping for 5s.\\n'\n",
      "b'Benchmark in progress... Sleeping for 5s.\\n'\n",
      "b'Benchmark in progress... Sleeping for 5s.\\n'\n",
      "b'Benchmark in progress... Sleeping for 5s.\\n'\n",
      "b'O:__main__:Getting results...\\n'\n",
      "b'INFO:__main__:Writing the results back to: /opt/output/user_task_consolidated_results.csv\\n'\n",
      "b'INFO:__main__:Completed!\\n'\n"
     ]
    }
   ],
   "source": [
    "# Status of job\n",
    "j.status()"
   ]
  },
  {
   "cell_type": "code",
   "execution_count": 11,
   "id": "ca958cb9",
   "metadata": {},
   "outputs": [
    {
     "name": "stdout",
     "output_type": "stream",
     "text": [
      "b'[2021-07-15 20:36:54,575: WARNING/ForkPoolWorker-1] /opt/executor/MLOS_executor_dir/job_1/output/oltp_results_1.summary\\n'\n",
      "b'[2021-07-15 20:36:54,575: WARNING/ForkPoolWorker-1] Benchmark results: /opt/executor/MLOS_executor_dir/job_1/output/oltp_results_1.summary, Ret val: 10.803855\\n'\n",
      "b'[2021-07-15 20:36:54,576: INFO/ForkPoolWorker-1] Task tasks.run_benchmark_test[023e0087-30e5-423c-8ab3-95005245674c] succeeded in 155.69926066393964s: 10.803855\\n'\n",
      "b'[2021-07-15 20:36:59,049: INFO/MainProcess] Received task: tasks.run_benchmark_test[3746a45a-9c64-4fe3-942f-e515d451351b]  \\n'\n",
      "b'[2021-07-15 20:36:59,050: WARNING/ForkPoolWorker-1] Running docker command using subprocess:\\n'\n",
      "b'[2021-07-15 20:36:59,050: WARNING/ForkPoolWorker-1] docker run --env-file=temp_1626381419050.env -v /home/azureuser/executor:/opt/executor -v /home/azureuser/executor/MLOS_executor_dir/job_1/output:/opt/oltpbench/results user_task\\n'\n",
      "b'[2021-07-15 20:39:34,950: WARNING/ForkPoolWorker-1] Reading results from:\\n'\n",
      "b'[2021-07-15 20:39:34,950: WARNING/ForkPoolWorker-1] /opt/executor/MLOS_executor_dir/job_1/output/oltp_results_2.summary\\n'\n",
      "b'[2021-07-15 20:39:34,950: WARNING/ForkPoolWorker-1] Benchmark results: /opt/executor/MLOS_executor_dir/job_1/output/oltp_results_2.summary, Ret val: 11.023790000000002\\n'\n",
      "b'[2021-07-15 20:39:34,951: INFO/ForkPoolWorker-1] Task tasks.run_benchmark_test[3746a45a-9c64-4fe3-942f-e515d451351b] succeeded in 155.90177999809384s: 11.023790000000002\\n'\n"
     ]
    }
   ],
   "source": [
    "# worker task status\n",
    "j.worker_task_status()"
   ]
  },
  {
   "cell_type": "code",
   "execution_count": 8,
   "id": "61f501b7",
   "metadata": {},
   "outputs": [
    {
     "name": "stdout",
     "output_type": "stream",
     "text": [
      "b\"INFO:executor.param_tuning.postgre_param:Update sql string is: ALTER SYSTEM SET shared_buffers = '795MB';\\n\"\n",
      "b'INFO:executor.param_tuning.postgre_param:Need to restart the postgres service!\\n'\n",
      "b'INFO:executor.utils.shell_commands:Running the sub process command: service postgresql restart\\n'\n",
      "b\"INFO:executor.utils.shell_commands:Cmd2 result: b'Restarting PostgreSQL 11 database server: main.\\\\n'\\n\"\n",
      "b'INFO:executor.param_tuning.postgre_param:Restarted postgres successfully!\\n'\n",
      "b'INFO:executor.utils.shell_commands:Running the sub process command: ./oltpbenchmark -b tpcc -c /opt/executor/conf/pg_tpcc.xml --execute=true -s 5 -o oltp_results_0\\n'\n",
      "b\"INFO:executor.utils.shell_commands:Cmd2 result: b'20:33:54,945 (DBWorkload.java:270) INFO  - ======================================================================\\\\n\\\\nBenchmark:     TPCC {com.oltpbenchmark.benchmarks.tpcc.TPCCBenchmark}\\\\nConfiguration: /opt/executor/conf/pg_tpcc.xml\\\\nType:          POSTGRES\\\\nDriver:        org.postgresql.Driver\\\\nURL:           jdbc:postgresql://localhost:5432/tpcc\\\\nIsolation:     TRANSACTION_SERIALIZABLE\\\\nScale Factor:  4.0\\\\n\\\\n20:33:54,947 (DBWorkload.java:271) INFO  - ======================================================================\\\\n20:33:54,973 (DBWorkload.java:849) INFO  - Creating 10 virtual terminals...\\\\n20:33:55,559 (DBWorkload.java:854) INFO  - Launching the TPCC Benchmark with 1 Phase...\\\\n20:33:55,584 (ThreadBench.java:341) INFO  - \\\\x1b[0;1mPHASE START\\\\x1b[0;0m :: [Workload=TPCC] [Serial=false] [Time=20] [WarmupTime=0] [Rate=10] [Arrival=REGULAR] [Ratios=[20.0, 20.0, 20.0, 20.0, 20.0]] [ActiveWorkers=10]\\\\n20:33:55,682 (ThreadBench.java:492) INFO  - \\\\x1b[0;1mMEASURE\\\\x1b[0;0m :: Warmup complete, starting measurements.\\\\n20:34:15,682 (ThreadBench.java:447) INFO  - \\\\x1b[0;1mTERMINATE\\\\x1b[0;0m :: Waiting for all terminals to finish ..\\\\n20:34:15,690 (ThreadBench.java:508) INFO  - Attempting to stop worker threads and collect measurements\\\\n20:34:15,698 (ThreadBench.java:247) INFO  - Starting WatchDogThread\\\\n20:34:15,702 (DBWorkload.java:860) INFO  - ======================================================================\\\\n20:34:15,714 (DBWorkload.java:861) INFO  - Rate limited reqs/s: Results(nanoSeconds=20000165977, measuredRequests=200) = 9.999917012188703 requests/sec\\\\n20:34:15,720 (DBWorkload.java:667) INFO  - Upload Results URL: com.oltpbenchmark.util.ResultUploader@553f1d75\\\\n20:34:15,722 (DBWorkload.java:700) INFO  - Output Raw data into file: results/oltp_results_0.csv\\\\n20:34:15,741 (DBWorkload.java:719) INFO  - Output summary data into file: results/oltp_results_0.summary\\\\n20:34:15,770 (DBWorkload.java:726) INFO  - Output DBMS parameters into file: results/oltp_results_0.params\\\\n20:34:15,802 (DBWorkload.java:733) INFO  - Output DBMS metrics into file: results/oltp_results_0.metrics\\\\n20:34:15,867 (DBWorkload.java:740) INFO  - Output experiment config into file: results/oltp_results_0.expconfig\\\\n20:34:15,956 (DBWorkload.java:757) INFO  - Output throughput samples into file: results/oltp_results_0.res\\\\n20:34:15,956 (DBWorkload.java:760) INFO  - Grouped into Buckets of 5 seconds\\\\n'\\n\"\n",
      "b'INFO:executor.param_tuning.run_oltp_bench:Current working directory: /opt/oltpbench\\n'\n",
      "b'INFO:executor.param_tuning.run_oltp_bench:Benchmark results: oltp_results, Ret val: 11.76294\\n'\n",
      "b'INFO:__main__:Benchmark task completed: 11.76294\\n'\n"
     ]
    }
   ],
   "source": [
    "# user task status\n",
    "j.user_task_status()"
   ]
  },
  {
   "cell_type": "code",
   "execution_count": 10,
   "id": "87ddd995",
   "metadata": {},
   "outputs": [
    {
     "data": {
      "text/html": [
       "<div>\n",
       "<style scoped>\n",
       "    .dataframe tbody tr th:only-of-type {\n",
       "        vertical-align: middle;\n",
       "    }\n",
       "\n",
       "    .dataframe tbody tr th {\n",
       "        vertical-align: top;\n",
       "    }\n",
       "\n",
       "    .dataframe thead th {\n",
       "        text-align: right;\n",
       "    }\n",
       "</style>\n",
       "<table border=\"1\" class=\"dataframe\">\n",
       "  <thead>\n",
       "    <tr style=\"text-align: right;\">\n",
       "      <th></th>\n",
       "      <th>Unnamed: 0</th>\n",
       "      <th>shared_buffers</th>\n",
       "      <th>avg_latency</th>\n",
       "    </tr>\n",
       "  </thead>\n",
       "  <tbody>\n",
       "    <tr>\n",
       "      <th>0</th>\n",
       "      <td>0.0</td>\n",
       "      <td>795.0945797626758</td>\n",
       "      <td>11.76294</td>\n",
       "    </tr>\n",
       "    <tr>\n",
       "      <th>1</th>\n",
       "      <td>NaN</td>\n",
       "      <td>shared_buffers</td>\n",
       "      <td>avg_latency</td>\n",
       "    </tr>\n",
       "    <tr>\n",
       "      <th>2</th>\n",
       "      <td>0.0</td>\n",
       "      <td>219.2352622984316</td>\n",
       "      <td>10.803855</td>\n",
       "    </tr>\n",
       "    <tr>\n",
       "      <th>3</th>\n",
       "      <td>NaN</td>\n",
       "      <td>shared_buffers</td>\n",
       "      <td>avg_latency</td>\n",
       "    </tr>\n",
       "    <tr>\n",
       "      <th>4</th>\n",
       "      <td>0.0</td>\n",
       "      <td>362.03797697956014</td>\n",
       "      <td>11.023790000000002</td>\n",
       "    </tr>\n",
       "  </tbody>\n",
       "</table>\n",
       "</div>"
      ],
      "text/plain": [
       "   Unnamed: 0      shared_buffers         avg_latency\n",
       "0         0.0   795.0945797626758            11.76294\n",
       "1         NaN      shared_buffers         avg_latency\n",
       "2         0.0   219.2352622984316           10.803855\n",
       "3         NaN      shared_buffers         avg_latency\n",
       "4         0.0  362.03797697956014  11.023790000000002"
      ]
     },
     "execution_count": 10,
     "metadata": {},
     "output_type": "execute_result"
    }
   ],
   "source": [
    "# check consolidated results\n",
    "j.get_consolidated_results()"
   ]
  },
  {
   "cell_type": "code",
   "execution_count": null,
   "id": "34064fd2",
   "metadata": {},
   "outputs": [],
   "source": [
    "Notes:\n",
    "    streaming\n",
    "    df\n",
    "\n",
    "job    worker_task   user_task     status       \n",
    "1       worker_1      task_1       running"
   ]
  }
 ],
 "metadata": {
  "kernelspec": {
   "display_name": "Python 3",
   "language": "python",
   "name": "python3"
  },
  "language_info": {
   "codemirror_mode": {
    "name": "ipython",
    "version": 3
   },
   "file_extension": ".py",
   "mimetype": "text/x-python",
   "name": "python",
   "nbconvert_exporter": "python",
   "pygments_lexer": "ipython3",
   "version": "3.8.10"
  }
 },
 "nbformat": 4,
 "nbformat_minor": 5
}
